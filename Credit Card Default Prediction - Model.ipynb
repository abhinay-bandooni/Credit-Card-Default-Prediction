{
 "cells": [
  {
   "cell_type": "code",
   "execution_count": 11,
   "id": "53cf589e",
   "metadata": {},
   "outputs": [
    {
     "data": {
      "text/html": [
       "        <script type=\"text/javascript\">\n",
       "        window.PlotlyConfig = {MathJaxConfig: 'local'};\n",
       "        if (window.MathJax) {MathJax.Hub.Config({SVG: {font: \"STIX-Web\"}});}\n",
       "        if (typeof require !== 'undefined') {\n",
       "        require.undef(\"plotly\");\n",
       "        requirejs.config({\n",
       "            paths: {\n",
       "                'plotly': ['https://cdn.plot.ly/plotly-2.9.0.min']\n",
       "            }\n",
       "        });\n",
       "        require(['plotly'], function(Plotly) {\n",
       "            window._Plotly = Plotly;\n",
       "        });\n",
       "        }\n",
       "        </script>\n",
       "        "
      ]
     },
     "metadata": {},
     "output_type": "display_data"
    },
    {
     "data": {
      "text/html": [
       "<div>\n",
       "<style scoped>\n",
       "    .dataframe tbody tr th:only-of-type {\n",
       "        vertical-align: middle;\n",
       "    }\n",
       "\n",
       "    .dataframe tbody tr th {\n",
       "        vertical-align: top;\n",
       "    }\n",
       "\n",
       "    .dataframe thead th {\n",
       "        text-align: right;\n",
       "    }\n",
       "</style>\n",
       "<table border=\"1\" class=\"dataframe\">\n",
       "  <thead>\n",
       "    <tr style=\"text-align: right;\">\n",
       "      <th></th>\n",
       "      <th>ID</th>\n",
       "      <th>LIMIT_BAL</th>\n",
       "      <th>SEX</th>\n",
       "      <th>EDUCATION</th>\n",
       "      <th>MARRIAGE</th>\n",
       "      <th>AGE</th>\n",
       "      <th>PAY_0</th>\n",
       "      <th>PAY_2</th>\n",
       "      <th>PAY_3</th>\n",
       "      <th>PAY_4</th>\n",
       "      <th>PAY_5</th>\n",
       "      <th>PAY_6</th>\n",
       "      <th>BILL_AMT1</th>\n",
       "      <th>BILL_AMT2</th>\n",
       "      <th>BILL_AMT3</th>\n",
       "      <th>BILL_AMT4</th>\n",
       "      <th>BILL_AMT5</th>\n",
       "      <th>BILL_AMT6</th>\n",
       "      <th>PAY_AMT1</th>\n",
       "      <th>PAY_AMT2</th>\n",
       "      <th>PAY_AMT3</th>\n",
       "      <th>PAY_AMT4</th>\n",
       "      <th>PAY_AMT5</th>\n",
       "      <th>PAY_AMT6</th>\n",
       "      <th>default.payment.next.month</th>\n",
       "    </tr>\n",
       "  </thead>\n",
       "  <tbody>\n",
       "    <tr>\n",
       "      <th>0</th>\n",
       "      <td>1</td>\n",
       "      <td>20000.0</td>\n",
       "      <td>2</td>\n",
       "      <td>2</td>\n",
       "      <td>1</td>\n",
       "      <td>24</td>\n",
       "      <td>2</td>\n",
       "      <td>2</td>\n",
       "      <td>-1</td>\n",
       "      <td>-1</td>\n",
       "      <td>-2</td>\n",
       "      <td>-2</td>\n",
       "      <td>3913.0</td>\n",
       "      <td>3102.0</td>\n",
       "      <td>689.0</td>\n",
       "      <td>0.0</td>\n",
       "      <td>0.0</td>\n",
       "      <td>0.0</td>\n",
       "      <td>0.0</td>\n",
       "      <td>689.0</td>\n",
       "      <td>0.0</td>\n",
       "      <td>0.0</td>\n",
       "      <td>0.0</td>\n",
       "      <td>0.0</td>\n",
       "      <td>1</td>\n",
       "    </tr>\n",
       "    <tr>\n",
       "      <th>1</th>\n",
       "      <td>2</td>\n",
       "      <td>120000.0</td>\n",
       "      <td>2</td>\n",
       "      <td>2</td>\n",
       "      <td>2</td>\n",
       "      <td>26</td>\n",
       "      <td>-1</td>\n",
       "      <td>2</td>\n",
       "      <td>0</td>\n",
       "      <td>0</td>\n",
       "      <td>0</td>\n",
       "      <td>2</td>\n",
       "      <td>2682.0</td>\n",
       "      <td>1725.0</td>\n",
       "      <td>2682.0</td>\n",
       "      <td>3272.0</td>\n",
       "      <td>3455.0</td>\n",
       "      <td>3261.0</td>\n",
       "      <td>0.0</td>\n",
       "      <td>1000.0</td>\n",
       "      <td>1000.0</td>\n",
       "      <td>1000.0</td>\n",
       "      <td>0.0</td>\n",
       "      <td>2000.0</td>\n",
       "      <td>1</td>\n",
       "    </tr>\n",
       "    <tr>\n",
       "      <th>2</th>\n",
       "      <td>3</td>\n",
       "      <td>90000.0</td>\n",
       "      <td>2</td>\n",
       "      <td>2</td>\n",
       "      <td>2</td>\n",
       "      <td>34</td>\n",
       "      <td>0</td>\n",
       "      <td>0</td>\n",
       "      <td>0</td>\n",
       "      <td>0</td>\n",
       "      <td>0</td>\n",
       "      <td>0</td>\n",
       "      <td>29239.0</td>\n",
       "      <td>14027.0</td>\n",
       "      <td>13559.0</td>\n",
       "      <td>14331.0</td>\n",
       "      <td>14948.0</td>\n",
       "      <td>15549.0</td>\n",
       "      <td>1518.0</td>\n",
       "      <td>1500.0</td>\n",
       "      <td>1000.0</td>\n",
       "      <td>1000.0</td>\n",
       "      <td>1000.0</td>\n",
       "      <td>5000.0</td>\n",
       "      <td>0</td>\n",
       "    </tr>\n",
       "    <tr>\n",
       "      <th>3</th>\n",
       "      <td>4</td>\n",
       "      <td>50000.0</td>\n",
       "      <td>2</td>\n",
       "      <td>2</td>\n",
       "      <td>1</td>\n",
       "      <td>37</td>\n",
       "      <td>0</td>\n",
       "      <td>0</td>\n",
       "      <td>0</td>\n",
       "      <td>0</td>\n",
       "      <td>0</td>\n",
       "      <td>0</td>\n",
       "      <td>46990.0</td>\n",
       "      <td>48233.0</td>\n",
       "      <td>49291.0</td>\n",
       "      <td>28314.0</td>\n",
       "      <td>28959.0</td>\n",
       "      <td>29547.0</td>\n",
       "      <td>2000.0</td>\n",
       "      <td>2019.0</td>\n",
       "      <td>1200.0</td>\n",
       "      <td>1100.0</td>\n",
       "      <td>1069.0</td>\n",
       "      <td>1000.0</td>\n",
       "      <td>0</td>\n",
       "    </tr>\n",
       "    <tr>\n",
       "      <th>4</th>\n",
       "      <td>5</td>\n",
       "      <td>50000.0</td>\n",
       "      <td>1</td>\n",
       "      <td>2</td>\n",
       "      <td>1</td>\n",
       "      <td>57</td>\n",
       "      <td>-1</td>\n",
       "      <td>0</td>\n",
       "      <td>-1</td>\n",
       "      <td>0</td>\n",
       "      <td>0</td>\n",
       "      <td>0</td>\n",
       "      <td>8617.0</td>\n",
       "      <td>5670.0</td>\n",
       "      <td>35835.0</td>\n",
       "      <td>20940.0</td>\n",
       "      <td>19146.0</td>\n",
       "      <td>19131.0</td>\n",
       "      <td>2000.0</td>\n",
       "      <td>36681.0</td>\n",
       "      <td>10000.0</td>\n",
       "      <td>9000.0</td>\n",
       "      <td>689.0</td>\n",
       "      <td>679.0</td>\n",
       "      <td>0</td>\n",
       "    </tr>\n",
       "  </tbody>\n",
       "</table>\n",
       "</div>"
      ],
      "text/plain": [
       "   ID  LIMIT_BAL  SEX  EDUCATION  MARRIAGE  AGE  PAY_0  PAY_2  PAY_3  PAY_4  \\\n",
       "0   1    20000.0    2          2         1   24      2      2     -1     -1   \n",
       "1   2   120000.0    2          2         2   26     -1      2      0      0   \n",
       "2   3    90000.0    2          2         2   34      0      0      0      0   \n",
       "3   4    50000.0    2          2         1   37      0      0      0      0   \n",
       "4   5    50000.0    1          2         1   57     -1      0     -1      0   \n",
       "\n",
       "   PAY_5  PAY_6  BILL_AMT1  BILL_AMT2  BILL_AMT3  BILL_AMT4  BILL_AMT5  \\\n",
       "0     -2     -2     3913.0     3102.0      689.0        0.0        0.0   \n",
       "1      0      2     2682.0     1725.0     2682.0     3272.0     3455.0   \n",
       "2      0      0    29239.0    14027.0    13559.0    14331.0    14948.0   \n",
       "3      0      0    46990.0    48233.0    49291.0    28314.0    28959.0   \n",
       "4      0      0     8617.0     5670.0    35835.0    20940.0    19146.0   \n",
       "\n",
       "   BILL_AMT6  PAY_AMT1  PAY_AMT2  PAY_AMT3  PAY_AMT4  PAY_AMT5  PAY_AMT6  \\\n",
       "0        0.0       0.0     689.0       0.0       0.0       0.0       0.0   \n",
       "1     3261.0       0.0    1000.0    1000.0    1000.0       0.0    2000.0   \n",
       "2    15549.0    1518.0    1500.0    1000.0    1000.0    1000.0    5000.0   \n",
       "3    29547.0    2000.0    2019.0    1200.0    1100.0    1069.0    1000.0   \n",
       "4    19131.0    2000.0   36681.0   10000.0    9000.0     689.0     679.0   \n",
       "\n",
       "   default.payment.next.month  \n",
       "0                           1  \n",
       "1                           1  \n",
       "2                           0  \n",
       "3                           0  \n",
       "4                           0  "
      ]
     },
     "execution_count": 11,
     "metadata": {},
     "output_type": "execute_result"
    }
   ],
   "source": [
    "import pandas as pd\n",
    "import matplotlib\n",
    "import seaborn as sns\n",
    "import cufflinks as cf\n",
    "\n",
    "cf.go_offline()\n",
    "data = pd.read_csv(r'C:\\Users\\Abhinay\\Downloads\\UCI_Credit_Card.csv')\n",
    "pd.pandas.set_option('display.max_columns',None)\n",
    "data.head()\n",
    "# No Null or missing Values in DataSet"
   ]
  },
  {
   "cell_type": "code",
   "execution_count": null,
   "id": "0039a54d",
   "metadata": {},
   "outputs": [],
   "source": []
  },
  {
   "cell_type": "markdown",
   "id": "aa8b5953",
   "metadata": {},
   "source": [
    "# Learning Decision Tree"
   ]
  },
  {
   "cell_type": "code",
   "execution_count": null,
   "id": "d3071dfe",
   "metadata": {},
   "outputs": [],
   "source": [
    "from sklearn import tree\n",
    "model = tree.DecisionTreeClassifier()\n",
    "model.fit(X_train, Y_train)"
   ]
  },
  {
   "cell_type": "markdown",
   "id": "aece60e5",
   "metadata": {},
   "source": [
    "# Testing"
   ]
  },
  {
   "cell_type": "code",
   "execution_count": null,
   "id": "46326595",
   "metadata": {},
   "outputs": [],
   "source": [
    "Y_pred = model.predict(X_test)\n",
    "\n",
    "from sklearn.metrics import accuracy_score, classification_report\n",
    "score = accuracy_score(Y_pred, Y_test)\n",
    "print('Accuracy score = ',score)\n",
    "print(classification_report(Y_pred,Y_test))"
   ]
  },
  {
   "cell_type": "code",
   "execution_count": null,
   "id": "f1e55de1",
   "metadata": {},
   "outputs": [],
   "source": [
    "Y_pred = model.predict(X_test)\n",
    "\n",
    "from sklearn.metrics import accuracy_score, classification_report\n",
    "score = accuracy_score(Y_pred, Y_test)\n",
    "print(score)\n",
    "print(classification_report(Y_pred,Y_test))"
   ]
  },
  {
   "cell_type": "code",
   "execution_count": null,
   "id": "5628725a",
   "metadata": {},
   "outputs": [],
   "source": []
  },
  {
   "cell_type": "code",
   "execution_count": null,
   "id": "c6c3acec",
   "metadata": {},
   "outputs": [],
   "source": [
    "sns.countplot(Y_train)"
   ]
  },
  {
   "cell_type": "code",
   "execution_count": null,
   "id": "6b6176d6",
   "metadata": {},
   "outputs": [],
   "source": [
    "\n",
    "sns.lineplot(x=Y_pred,y=Y_test)"
   ]
  },
  {
   "cell_type": "code",
   "execution_count": null,
   "id": "76dcf073",
   "metadata": {},
   "outputs": [],
   "source": [
    "# Removed invalid records from Training set after merging LIMIT_BAL only for achieving better results\n",
    "from sklearn.model_selection import train_test_split\n",
    "\n",
    "X1 = data[data.columns[6:12]]\n",
    "X2 = data[data.columns[1:2]]\n",
    "Y = data[data.columns[-1]]\n",
    "\n",
    "X = pd.concat([X1,X2], axis=1)\n",
    "\n",
    "X_train, X_test, Y_train, Y_test = train_test_split(X,Y, train_size=0.70)\n",
    "\n",
    "X_train = X_train.merge(Y_train, left_index=True, right_index=True)\n",
    "\n",
    "#Removal of invalid values from training set\n",
    "X_train=X_train.loc[(X_train['LIMIT_BAL']>=0) & (X_train['PAY_0']!=0) & (X_train['PAY_0']!=-2) & (X_train['PAY_2']!=0) & (X_train['PAY_2']!=-2) & (X_train['PAY_3']!=0) & (X_train['PAY_3']!=-2) & (X_train['PAY_4']!=0) & (X_train['PAY_4']!=-2) & (X_train['PAY_5']!=0) & (X_train['PAY_5']!=-2) & (X_train['PAY_6']!=0) & (X_train['PAY_6']!=-2)]\n",
    "\n",
    "Y_train = X_train.iloc[:,-1]\n",
    "X_train = X_train.iloc[:,0:7]\n",
    "\n",
    "# Removed records having invalid values in columns from PAY_0 till PAY_AMT6\n",
    "#data=data.loc[ (data['MARRIAGE']!=0) & (data['BILL_AMT1']>=0) & (data['BILL_AMT2']>=0) & (data['BILL_AMT3']>=0) & (data['BILL_AMT4']>=0) & (data['BILL_AMT5']>=0) & (data['BILL_AMT6']>=0) & (data['PAY_AMT1']>=0) & (data['PAY_AMT2']>=0) & (data['PAY_AMT3']>=0) & (data['PAY_AMT4']>=0) & (data['PAY_AMT5']>=0) & (data['PAY_AMT6']>=0) & (data['PAY_0']!=0) & (data['PAY_0']!=-2) & (data['PAY_2']!=0) & (data['PAY_2']!=-2) & (data['PAY_3']!=0) & (data['PAY_3']!=-2) & (data['PAY_4']!=0) & (data['PAY_4']!=-2) & (data['PAY_5']!=0) & (data['PAY_5']!=-2) & (data['PAY_6']!=0) & (data['PAY_6']!=-2)]\n",
    "\n",
    "# Converted Unknown in education to others\n",
    "#data['EDUCATION'].replace(to_replace=[4,5,6], value=4, inplace=True)\n",
    "\n",
    "# Learning Decision Tree\n",
    "\n",
    "from sklearn import tree\n",
    "model = tree.DecisionTreeClassifier()\n",
    "model.fit(X_train, Y_train)\n",
    "\n",
    "# Testing Scores\n",
    "Y_pred = model.predict(X_test)\n",
    "\n",
    "from sklearn.metrics import accuracy_score, classification_report\n",
    "score = accuracy_score(Y_pred, Y_test)\n",
    "print('Accuracy score = ',score)\n",
    "print(classification_report(Y_pred,Y_test))"
   ]
  },
  {
   "cell_type": "markdown",
   "id": "bc06c2be",
   "metadata": {},
   "source": [
    "# Latest Version"
   ]
  },
  {
   "cell_type": "code",
   "execution_count": 43,
   "id": "cad0b818",
   "metadata": {},
   "outputs": [
    {
     "name": "stdout",
     "output_type": "stream",
     "text": [
      "0.79\n",
      "              precision    recall  f1-score   support\n",
      "\n",
      "           0       0.94      0.82      0.87      8068\n",
      "           1       0.26      0.55      0.35       932\n",
      "\n",
      "    accuracy                           0.79      9000\n",
      "   macro avg       0.60      0.69      0.61      9000\n",
      "weighted avg       0.87      0.79      0.82      9000\n",
      "\n"
     ]
    }
   ],
   "source": [
    "# Removed invalid records from Training set after merging LIMIT_BAL only for achieving better results\n",
    "from sklearn.model_selection import train_test_split\n",
    "\n",
    "X1 = data[data.columns[6:24]]\n",
    "X2 = data[data.columns[1:2]]\n",
    "Y = data[data.columns[-1]]\n",
    "\n",
    "X = pd.concat([X1,X2], axis=1)\n",
    "\n",
    "X_train, X_test, Y_train, Y_test = train_test_split(X,Y, train_size=0.70)\n",
    "\n",
    "X_train = X_train.merge(Y_train, left_index=True, right_index=True)\n",
    "\n",
    "\n",
    "# Removed records having invalid values in columns from PAY_0 till PAY_AMT6, BILL_AMT\n",
    "X_train=X_train.loc[ (X_train['BILL_AMT1']>=0) & (X_train['BILL_AMT2']>=0) & (X_train['BILL_AMT3']>=0) & (X_train['BILL_AMT4']>=0) & (X_train['BILL_AMT5']>=0) & (X_train['BILL_AMT6']>=0) & (X_train['PAY_0']!=0) & (X_train['PAY_0']!=-2) & (X_train['PAY_2']!=0) & (X_train['PAY_2']!=-2) & (X_train['PAY_3']!=0) & (X_train['PAY_3']!=-2) & (X_train['PAY_4']!=0) & (X_train['PAY_4']!=-2) & (X_train['PAY_5']!=0) & (X_train['PAY_5']!=-2) & (X_train['PAY_6']!=0) & (X_train['PAY_6']!=-2)]\n",
    "\n",
    "#Splitting data in X_train & Y_train\n",
    "\n",
    "Y_train = X_train.iloc[:,-1]\n",
    "X_train = X_train.iloc[:,0:19]\n",
    "# Converted Unknown in education to others\n",
    "#data['EDUCATION'].replace(to_replace=[4,5,6], value=4, inplace=True)\n",
    "\n",
    "# Applying GridSearchCV\n",
    "##############################\n",
    "\n",
    "\n",
    "from sklearn import tree\n",
    "from sklearn.metrics import accuracy_score, classification_report\n",
    "model = tree.DecisionTreeClassifier()\n",
    "\n",
    "\n",
    "\n",
    "# GridSearchCV\n",
    "from sklearn.model_selection import GridSearchCV\n",
    "grid_param = {'criterion': ['gini', 'entropy'],\n",
    "    'max_depth' : range(2,5,1),\n",
    "    'min_samples_leaf' : range(1,10,1),\n",
    "    'min_samples_split': range(2,10,1),\n",
    "    'splitter' : ['best']}\n",
    "grid_search=GridSearchCV(estimator=model, param_grid=grid_param, cv=10, scoring='f1')\n",
    "grid_search.fit(X_train, Y_train)\n",
    "pred = grid_search.predict(X_test)\n",
    "print(accuracy_score(pred, Y_test))\n",
    "print(classification_report(pred,Y_test))\n",
    "#######################################"
   ]
  },
  {
   "cell_type": "code",
   "execution_count": 44,
   "id": "1c29bbf2",
   "metadata": {},
   "outputs": [
    {
     "data": {
      "text/plain": [
       "{'criterion': 'gini',\n",
       " 'max_depth': 2,\n",
       " 'min_samples_leaf': 1,\n",
       " 'min_samples_split': 2,\n",
       " 'splitter': 'best'}"
      ]
     },
     "execution_count": 44,
     "metadata": {},
     "output_type": "execute_result"
    }
   ],
   "source": [
    "grid_search.best_params_"
   ]
  },
  {
   "cell_type": "code",
   "execution_count": 12,
   "id": "c5677135",
   "metadata": {},
   "outputs": [
    {
     "data": {
      "text/plain": [
       "0.6765394265645486"
      ]
     },
     "execution_count": 12,
     "metadata": {},
     "output_type": "execute_result"
    }
   ],
   "source": [
    "grid_search.best_score_"
   ]
  },
  {
   "cell_type": "code",
   "execution_count": 41,
   "id": "9039d5a8",
   "metadata": {},
   "outputs": [
    {
     "name": "stdout",
     "output_type": "stream",
     "text": [
      "Accuracy score =  0.8012222222222222\n",
      "              precision    recall  f1-score   support\n",
      "\n",
      "           0       0.98      0.81      0.88      8460\n",
      "           1       0.19      0.68      0.29       540\n",
      "\n",
      "    accuracy                           0.80      9000\n",
      "   macro avg       0.58      0.75      0.59      9000\n",
      "weighted avg       0.93      0.80      0.85      9000\n",
      "\n"
     ]
    }
   ],
   "source": [
    "# Learning Decision Tree\n",
    "\n",
    "from sklearn import tree\n",
    "from sklearn.metrics import accuracy_score, classification_report\n",
    "\n",
    "X1 = data[data.columns[6:24]]\n",
    "X2 = data[data.columns[1:2]]\n",
    "Y = data[data.columns[-1]]\n",
    "\n",
    "X = pd.concat([X1,X2], axis=1)\n",
    "\n",
    "X_train, X_test, Y_train, Y_test = train_test_split(X,Y, train_size=0.70, shuffle=True)\n",
    "\n",
    "X_train = X_train.merge(Y_train, left_index=True, right_index=True)\n",
    "\n",
    "\n",
    "# Removed records having invalid values in columns from PAY_0 till PAY_AMT6, BILL_AMT\n",
    "X_train=X_train.loc[ (X_train['BILL_AMT1']>=0) & (X_train['BILL_AMT2']>=0) & (X_train['BILL_AMT3']>=0) & (X_train['BILL_AMT4']>=0) & (X_train['BILL_AMT5']>=0) & (X_train['BILL_AMT6']>=0) & (X_train['PAY_0']!=0) & (X_train['PAY_0']!=-2) & (X_train['PAY_2']!=0) & (X_train['PAY_2']!=-2) & (X_train['PAY_3']!=0) & (X_train['PAY_3']!=-2) & (X_train['PAY_4']!=0) & (X_train['PAY_4']!=-2) & (X_train['PAY_5']!=0) & (X_train['PAY_5']!=-2) & (X_train['PAY_6']!=0) & (X_train['PAY_6']!=-2)]\n",
    "\n",
    "#Splitting data in X_train & Y_train\n",
    "\n",
    "Y_train = X_train.iloc[:,-1]\n",
    "X_train = X_train.iloc[:,0:19]\n",
    "\n",
    "model = tree.DecisionTreeClassifier(criterion='entropy', max_depth=3, min_samples_leaf=1, min_samples_split=2, splitter='best')\n",
    "model.fit(X_train, Y_train)\n",
    "\n",
    "# Testing Scores\n",
    "Y_pred = model.predict(X_test)\n",
    "\n",
    "\n",
    "score = accuracy_score(Y_pred, Y_test)\n",
    "print('Accuracy score = ',score)\n",
    "print(classification_report(Y_pred,Y_test))"
   ]
  },
  {
   "cell_type": "code",
   "execution_count": null,
   "id": "990bc558",
   "metadata": {},
   "outputs": [],
   "source": []
  },
  {
   "cell_type": "code",
   "execution_count": null,
   "id": "fb850981",
   "metadata": {},
   "outputs": [],
   "source": [
    "# Removed invalid records from Training set after merging LIMIT_BAL only for achieving better results + Cross Validation\n",
    "from sklearn.model_selection import train_test_split\n",
    "\n",
    "X1 = data[data.columns[6:12]]\n",
    "X2 = data[data.columns[1:2]]\n",
    "Y = data[data.columns[-1]]\n",
    "\n",
    "X = pd.concat([X1,X2], axis=1)\n",
    "\n",
    "X_train, X_test, Y_train, Y_test = train_test_split(X,Y, train_size=0.70)\n",
    "\n",
    "X_train = X_train.merge(Y_train, left_index=True, right_index=True)\n",
    "\n",
    "#Removal of invalid values from training set\n",
    "X_train=X_train.loc[(X_train['LIMIT_BAL']>=0) & (X_train['PAY_0']!=0) & (X_train['PAY_0']!=-2) & (X_train['PAY_2']!=0) & (X_train['PAY_2']!=-2) & (X_train['PAY_3']!=0) & (X_train['PAY_3']!=-2) & (X_train['PAY_4']!=0) & (X_train['PAY_4']!=-2) & (X_train['PAY_5']!=0) & (X_train['PAY_5']!=-2) & (X_train['PAY_6']!=0) & (X_train['PAY_6']!=-2)]\n",
    "\n",
    "Y_train = X_train.iloc[:,-1]\n",
    "X_train = X_train.iloc[:,0:7]\n",
    "\n",
    "# Removed records having invalid values in columns from PAY_0 till PAY_AMT6\n",
    "data=data.loc[ (data['MARRIAGE']!=0) & (data['BILL_AMT1']>=0) & (data['BILL_AMT2']>=0) & (data['BILL_AMT3']>=0) & (data['BILL_AMT4']>=0) & (data['BILL_AMT5']>=0) & (data['BILL_AMT6']>=0) & (data['PAY_AMT1']>=0) & (data['PAY_AMT2']>=0) & (data['PAY_AMT3']>=0) & (data['PAY_AMT4']>=0) & (data['PAY_AMT5']>=0) & (data['PAY_AMT6']>=0) & (data['PAY_0']!=0) & (data['PAY_0']!=-2) & (data['PAY_2']!=0) & (data['PAY_2']!=-2) & (data['PAY_3']!=0) & (data['PAY_3']!=-2) & (data['PAY_4']!=0) & (data['PAY_4']!=-2) & (data['PAY_5']!=0) & (data['PAY_5']!=-2) & (data['PAY_6']!=0) & (data['PAY_6']!=-2)]\n",
    "\n",
    "# Converted Unknown in education to others\n",
    "data['EDUCATION'].replace(to_replace=[4,5,6], value=4, inplace=True)\n",
    "\n",
    "# Applying Cross Validation\n",
    "##############################\n"
   ]
  },
  {
   "cell_type": "markdown",
   "id": "9255894a",
   "metadata": {},
   "source": [
    "### Was supposed to give highest Precision and lowest Recall"
   ]
  },
  {
   "cell_type": "code",
   "execution_count": null,
   "id": "a6b13812",
   "metadata": {},
   "outputs": [],
   "source": [
    "from sklearn.model_selection import train_test_split\n",
    "\n",
    "X1 = data[data.columns[6:12]]\n",
    "X2 = data[data.columns[1:2]]\n",
    "Y = data[data.columns[-1]]\n",
    "\n",
    "X = pd.concat([X1,X2], axis=1)\n",
    "\n",
    "X_train, X_test, Y_train, Y_test = train_test_split(X,Y, train_size=0.70)\n",
    "\n",
    "X_train = X_train.merge(Y_train, left_index=True, right_index=True)\n",
    "\n",
    "#Removal of invalid values from training set\n",
    "X_train=X_train.loc[(X_train['LIMIT_BAL']>=0) & (X_train['PAY_0']!=0) & (X_train['PAY_0']!=-2) & (X_train['PAY_2']!=0) & (X_train['PAY_2']!=-2) & (X_train['PAY_3']!=0) & (X_train['PAY_3']!=-2) & (X_train['PAY_4']!=0) & (X_train['PAY_4']!=-2) & (X_train['PAY_5']!=0) & (X_train['PAY_5']!=-2) & (X_train['PAY_6']!=0) & (X_train['PAY_6']!=-2)]\n",
    "\n",
    "Y_train = X_train.iloc[:,-1]\n",
    "X_train = X_train.iloc[:,0:7]\n",
    "\n",
    "# Removed records having invalid values in columns from PAY_0 till PAY_AMT6\n",
    "data=data.loc[ (data['MARRIAGE']!=0) & (data['BILL_AMT1']>=0) & (data['BILL_AMT2']>=0) & (data['BILL_AMT3']>=0) & (data['BILL_AMT4']>=0) & (data['BILL_AMT5']>=0) & (data['BILL_AMT6']>=0) & (data['PAY_AMT1']>=0) & (data['PAY_AMT2']>=0) & (data['PAY_AMT3']>=0) & (data['PAY_AMT4']>=0) & (data['PAY_AMT5']>=0) & (data['PAY_AMT6']>=0) & (data['PAY_0']!=0) & (data['PAY_0']!=-2) & (data['PAY_2']!=0) & (data['PAY_2']!=-2) & (data['PAY_3']!=0) & (data['PAY_3']!=-2) & (data['PAY_4']!=0) & (data['PAY_4']!=-2) & (data['PAY_5']!=0) & (data['PAY_5']!=-2) & (data['PAY_6']!=0) & (data['PAY_6']!=-2)]\n",
    "\n",
    "# Learning Decision Tree\n",
    "\n",
    "from sklearn import tree\n",
    "model = tree.DecisionTreeClassifier()\n",
    "#model.fit(X_train, Y_train)\n",
    "\n",
    "# Testing Scores\n",
    "#Y_pred = model.predict(X_test)\n",
    "\n",
    "from sklearn.metrics import accuracy_score, classification_report\n",
    "#score = accuracy_score(Y_pred, Y_test)\n",
    "#print('Accuracy score = ',score)\n",
    "#print(classification_report(Y_pred,Y_test))\n",
    "\n",
    "\n",
    "#GridSearchCV\n",
    "from sklearn.model_selection import GridSearchCV\n",
    "grid_param = {'criterion': ['gini', 'entropy'],\n",
    "    'max_depth' : range(2,32,1),\n",
    "    'min_samples_leaf' : range(1,10,1),\n",
    "    'min_samples_split': range(2,10,1),\n",
    "    'splitter' : ['best']}\n",
    "grid_search=GridSearchCV(estimator=model, param_grid=grid_param, cv=10)\n",
    "grid_search.fit(X_train, Y_train)\n",
    "pred = grid_search.predict(X_test)\n",
    "print(accuracy_score(pred, Y_test))\n",
    "print(classification_report(pred,Y_test))"
   ]
  },
  {
   "cell_type": "code",
   "execution_count": null,
   "id": "ae59fbf9",
   "metadata": {},
   "outputs": [],
   "source": []
  },
  {
   "cell_type": "code",
   "execution_count": null,
   "id": "153562e7",
   "metadata": {},
   "outputs": [],
   "source": [
    "grid_search.best_params_"
   ]
  },
  {
   "cell_type": "code",
   "execution_count": null,
   "id": "29519cf6",
   "metadata": {},
   "outputs": [],
   "source": [
    "from sklearn import tree\n",
    "model = tree.DecisionTreeClassifier(criterion='entropy', max_depth=3, min_samples_leaf=4, min_samples_split=2, splitter='best')\n",
    "model.fit(X_train, Y_train)\n",
    "pred=model.predict(X_test)\n",
    "\n",
    "print(accuracy_score(pred, Y_test))\n",
    "print(classification_report(pred,Y_test))"
   ]
  },
  {
   "cell_type": "code",
   "execution_count": null,
   "id": "961085f5",
   "metadata": {},
   "outputs": [],
   "source": [
    "from sklearn.metrics import confusion_matrix\n",
    "confusion_matrix(Y_test, pred)"
   ]
  },
  {
   "cell_type": "markdown",
   "id": "af58ae97",
   "metadata": {},
   "source": [
    "# Stratified K-Fold Cross Validation instead of train_test_split"
   ]
  },
  {
   "cell_type": "code",
   "execution_count": null,
   "id": "042fa947",
   "metadata": {},
   "outputs": [],
   "source": [
    "# Removed invalid records from Training set after merging LIMIT_BAL only for achieving better results + Cross Validation\n",
    "from sklearn.model_selection import StratifiedKFold\n",
    "\n",
    "X1 = data[data.columns[6:12]]\n",
    "X2 = data[data.columns[1:2]]\n",
    "Y = data[data.columns[-1]]\n",
    "\n",
    "X = pd.concat([X1,X2], axis=1)\n",
    "\n",
    "#X_train, X_test, Y_train, Y_test = train_test_split(X,Y, train_size=0.70)\n",
    "\n",
    "X_train = X_train.merge(Y_train, left_index=True, right_index=True)\n",
    "\n",
    "#Removal of invalid values from training set\n",
    "X_train=X_train.loc[(X_train['LIMIT_BAL']>=0) & (X_train['PAY_0']!=0) & (X_train['PAY_0']!=-2) & (X_train['PAY_2']!=0) & (X_train['PAY_2']!=-2) & (X_train['PAY_3']!=0) & (X_train['PAY_3']!=-2) & (X_train['PAY_4']!=0) & (X_train['PAY_4']!=-2) & (X_train['PAY_5']!=0) & (X_train['PAY_5']!=-2) & (X_train['PAY_6']!=0) & (X_train['PAY_6']!=-2)]\n",
    "\n",
    "Y_train = X_train.iloc[:,-1]\n",
    "X_train = X_train.iloc[:,0:7]\n",
    "\n",
    "# Removed records having invalid values in columns from PAY_0 till PAY_AMT6\n",
    "data=data.loc[ (data['MARRIAGE']!=0) & (data['BILL_AMT1']>=0) & (data['BILL_AMT2']>=0) & (data['BILL_AMT3']>=0) & (data['BILL_AMT4']>=0) & (data['BILL_AMT5']>=0) & (data['BILL_AMT6']>=0) & (data['PAY_AMT1']>=0) & (data['PAY_AMT2']>=0) & (data['PAY_AMT3']>=0) & (data['PAY_AMT4']>=0) & (data['PAY_AMT5']>=0) & (data['PAY_AMT6']>=0) & (data['PAY_0']!=0) & (data['PAY_0']!=-2) & (data['PAY_2']!=0) & (data['PAY_2']!=-2) & (data['PAY_3']!=0) & (data['PAY_3']!=-2) & (data['PAY_4']!=0) & (data['PAY_4']!=-2) & (data['PAY_5']!=0) & (data['PAY_5']!=-2) & (data['PAY_6']!=0) & (data['PAY_6']!=-2)]\n",
    "\n",
    "# Converted Unknown in education to others\n",
    "data['EDUCATION'].replace(to_replace=[4,5,6], value=4, inplace=True)\n",
    "\n",
    "# Applying Cross Validation\n",
    "##############################\n"
   ]
  },
  {
   "cell_type": "markdown",
   "id": "6017f340",
   "metadata": {},
   "source": [
    "# After finding best Params, we applied the same below and subsequently applied Stratified K Fold Cross Validation on Training set"
   ]
  },
  {
   "cell_type": "code",
   "execution_count": 48,
   "id": "21c3cc52",
   "metadata": {},
   "outputs": [],
   "source": [
    "from sklearn.model_selection import StratifiedKFold\n",
    "from sklearn.metrics import classification_report\n",
    "model = tree.DecisionTreeClassifier(criterion='gini', max_depth=2, min_samples_leaf=1, min_samples_split=2, splitter='best')\n",
    "skf = StratifiedKFold(n_splits=10, random_state=1, shuffle=True)\n",
    "\n",
    "list_accu_stratified=[]\n",
    "list_classification_report=[]\n",
    "\n",
    "for train_index, test_index in skf.split(X, Y): # X,Y needs to contain only Training data\n",
    "    x_train_fold, x_test_fold = X.loc[train_index], X.loc[test_index]\n",
    "    y_train_fold, y_test_fold = Y.loc[train_index], Y.loc[test_index]\n",
    "    model.fit(x_train_fold, y_train_fold)\n",
    "    pred=model.predict(x_test_fold)\n",
    "    list_accu_stratified.append(model.score(x_test_fold, y_test_fold))\n",
    "    list_classification_report.append(classification_report(pred, y_test_fold))\n"
   ]
  },
  {
   "cell_type": "code",
   "execution_count": 49,
   "id": "677e1002",
   "metadata": {},
   "outputs": [
    {
     "name": "stdout",
     "output_type": "stream",
     "text": [
      "[0.819, 0.8253333333333334, 0.8226666666666667, 0.8223333333333334, 0.8203333333333334, 0.8176666666666667, 0.815, 0.8176666666666667, 0.81, 0.8266666666666667]\n",
      "0.8196666666666668\n"
     ]
    }
   ],
   "source": [
    "import numpy as np\n",
    "print(list_accu_stratified)\n",
    "print(np.mean(list_accu_stratified))"
   ]
  },
  {
   "cell_type": "code",
   "execution_count": 50,
   "id": "f0ef83e2",
   "metadata": {},
   "outputs": [
    {
     "name": "stdout",
     "output_type": "stream",
     "text": [
      "              precision    recall  f1-score   support\n",
      "\n",
      "           0       0.97      0.83      0.89      2729\n",
      "           1       0.30      0.72      0.42       271\n",
      "\n",
      "    accuracy                           0.82      3000\n",
      "   macro avg       0.63      0.78      0.66      3000\n",
      "weighted avg       0.91      0.82      0.85      3000\n",
      "\n",
      "              precision    recall  f1-score   support\n",
      "\n",
      "           0       0.96      0.84      0.90      2666\n",
      "           1       0.36      0.71      0.47       334\n",
      "\n",
      "    accuracy                           0.83      3000\n",
      "   macro avg       0.66      0.77      0.69      3000\n",
      "weighted avg       0.89      0.83      0.85      3000\n",
      "\n",
      "              precision    recall  f1-score   support\n",
      "\n",
      "           0       0.97      0.83      0.89      2710\n",
      "           1       0.32      0.73      0.44       290\n",
      "\n",
      "    accuracy                           0.82      3000\n",
      "   macro avg       0.64      0.78      0.67      3000\n",
      "weighted avg       0.90      0.82      0.85      3000\n",
      "\n",
      "              precision    recall  f1-score   support\n",
      "\n",
      "           0       0.97      0.83      0.89      2715\n",
      "           1       0.31      0.73      0.44       285\n",
      "\n",
      "    accuracy                           0.82      3000\n",
      "   macro avg       0.64      0.78      0.67      3000\n",
      "weighted avg       0.90      0.82      0.85      3000\n",
      "\n",
      "              precision    recall  f1-score   support\n",
      "\n",
      "           0       0.96      0.83      0.89      2689\n",
      "           1       0.33      0.70      0.45       311\n",
      "\n",
      "    accuracy                           0.82      3000\n",
      "   macro avg       0.64      0.77      0.67      3000\n",
      "weighted avg       0.89      0.82      0.85      3000\n",
      "\n",
      "              precision    recall  f1-score   support\n",
      "\n",
      "           0       0.96      0.83      0.89      2689\n",
      "           1       0.32      0.69      0.44       311\n",
      "\n",
      "    accuracy                           0.82      3000\n",
      "   macro avg       0.64      0.76      0.67      3000\n",
      "weighted avg       0.89      0.82      0.84      3000\n",
      "\n",
      "              precision    recall  f1-score   support\n",
      "\n",
      "           0       0.96      0.83      0.89      2714\n",
      "           1       0.30      0.69      0.42       286\n",
      "\n",
      "    accuracy                           0.81      3000\n",
      "   macro avg       0.63      0.76      0.65      3000\n",
      "weighted avg       0.90      0.81      0.84      3000\n",
      "\n",
      "              precision    recall  f1-score   support\n",
      "\n",
      "           0       0.96      0.83      0.89      2712\n",
      "           1       0.30      0.70      0.42       288\n",
      "\n",
      "    accuracy                           0.82      3000\n",
      "   macro avg       0.63      0.77      0.66      3000\n",
      "weighted avg       0.90      0.82      0.85      3000\n",
      "\n",
      "              precision    recall  f1-score   support\n",
      "\n",
      "           0       0.96      0.83      0.89      2711\n",
      "           1       0.29      0.66      0.40       289\n",
      "\n",
      "    accuracy                           0.81      3000\n",
      "   macro avg       0.62      0.74      0.64      3000\n",
      "weighted avg       0.89      0.81      0.84      3000\n",
      "\n",
      "              precision    recall  f1-score   support\n",
      "\n",
      "           0       0.96      0.84      0.90      2691\n",
      "           1       0.34      0.73      0.47       309\n",
      "\n",
      "    accuracy                           0.83      3000\n",
      "   macro avg       0.65      0.78      0.68      3000\n",
      "weighted avg       0.90      0.83      0.85      3000\n",
      "\n"
     ]
    }
   ],
   "source": [
    "for i in list_classification_report:\n",
    "    print(i)"
   ]
  },
  {
   "cell_type": "markdown",
   "id": "be05eb90",
   "metadata": {},
   "source": [
    "# Splits dataset into Training and Testing set, doesn't clean data, nor does hyper paramet tuning.\n",
    "# Selected few values for Hyperparameter in Decision Tree Classifier"
   ]
  },
  {
   "cell_type": "code",
   "execution_count": 26,
   "id": "73d11ae8",
   "metadata": {},
   "outputs": [
    {
     "name": "stdout",
     "output_type": "stream",
     "text": [
      "              precision    recall  f1-score   support\n",
      "\n",
      "           0       0.83      0.87      0.85      6700\n",
      "           1       0.55      0.48      0.51      2300\n",
      "\n",
      "    accuracy                           0.77      9000\n",
      "   macro avg       0.69      0.67      0.68      9000\n",
      "weighted avg       0.76      0.77      0.76      9000\n",
      "\n"
     ]
    }
   ],
   "source": [
    "# Splits dataset into Training and Testing set, doesn't clean data, nor does hyper paramet tuning.\n",
    "# Selected few values for Hyperparameter in Decision Tree Classifier\n",
    "\n",
    "from sklearn.model_selection import StratifiedKFold\n",
    "from sklearn.metrics import classification_report\n",
    "from sklearn.model_selection import train_test_split\n",
    "from sklearn import tree\n",
    "\n",
    "# Below params give higher Precision for 1 and lower Recall\n",
    "model = tree.DecisionTreeClassifier(criterion='gini', max_depth=5, min_samples_leaf=4, min_samples_split=4, splitter='best')\n",
    "\n",
    "#model = tree.DecisionTreeClassifier(criterion='gini', splitter='best')\n",
    "\n",
    "#X_train, X_test, Y_train, Y_test = train_test_split(X,Y, train_size=0.40, shuffle=True)\n",
    "\n",
    "model.fit(X_train_resampled, Y_train_resampled)\n",
    "pred = model.predict(X_test)\n",
    "\n",
    "print(classification_report(pred, Y_test))"
   ]
  },
  {
   "cell_type": "markdown",
   "id": "428936bf",
   "metadata": {},
   "source": [
    "# After testing code without removing invalid values and keeping Training set as 50%(70% subsequently) the below code is an attempt to get best params. Both 50% & 70% training sets give same params. 50% & Max depth till 11"
   ]
  },
  {
   "cell_type": "code",
   "execution_count": 114,
   "id": "bb157274",
   "metadata": {},
   "outputs": [
    {
     "name": "stdout",
     "output_type": "stream",
     "text": [
      "0.8178666666666666\n",
      "              precision    recall  f1-score   support\n",
      "\n",
      "           0       0.94      0.84      0.89     13117\n",
      "           1       0.37      0.65      0.47      1883\n",
      "\n",
      "    accuracy                           0.82     15000\n",
      "   macro avg       0.66      0.75      0.68     15000\n",
      "weighted avg       0.87      0.82      0.84     15000\n",
      "\n"
     ]
    }
   ],
   "source": [
    "# Removed invalid records from Training set after merging LIMIT_BAL only for achieving better results\n",
    "from sklearn.model_selection import train_test_split\n",
    "\n",
    "X1 = data[data.columns[6:24]]\n",
    "X2 = data[data.columns[1:2]]\n",
    "Y = data[data.columns[-1]]\n",
    "\n",
    "X = pd.concat([X1,X2], axis=1)\n",
    "\n",
    "X_train, X_test, Y_train, Y_test = train_test_split(X,Y, train_size=0.50)\n",
    "\n",
    "# Converted Unknown in education to others\n",
    "#data['EDUCATION'].replace(to_replace=[4,5,6], value=4, inplace=True)\n",
    "\n",
    "# Applying GridSearchCV\n",
    "##############################\n",
    "\n",
    "\n",
    "from sklearn import tree\n",
    "from sklearn.metrics import accuracy_score, classification_report\n",
    "model = tree.DecisionTreeClassifier()\n",
    "\n",
    "\n",
    "\n",
    "# GridSearchCV\n",
    "from sklearn.model_selection import GridSearchCV\n",
    "grid_param = {'criterion': ['gini', 'entropy'],\n",
    "    'max_depth' : range(2,11,1),\n",
    "    'min_samples_leaf' : range(1,10,1),\n",
    "    'min_samples_split': range(2,10,1),\n",
    "    'splitter' : ['best']}\n",
    "grid_search=GridSearchCV(estimator=model, param_grid=grid_param, cv=10, scoring='f1')\n",
    "grid_search.fit(X_train, Y_train)\n",
    "pred = grid_search.predict(X_test)\n",
    "print(accuracy_score(pred, Y_test))\n",
    "print(classification_report(pred,Y_test))\n",
    "#######################################"
   ]
  },
  {
   "cell_type": "code",
   "execution_count": 109,
   "id": "fee25ea1",
   "metadata": {},
   "outputs": [
    {
     "data": {
      "text/plain": [
       "{'criterion': 'gini',\n",
       " 'max_depth': 3,\n",
       " 'min_samples_leaf': 1,\n",
       " 'min_samples_split': 2,\n",
       " 'splitter': 'best'}"
      ]
     },
     "execution_count": 109,
     "metadata": {},
     "output_type": "execute_result"
    }
   ],
   "source": [
    "grid_search.best_params_"
   ]
  },
  {
   "cell_type": "code",
   "execution_count": 113,
   "id": "72298122",
   "metadata": {},
   "outputs": [
    {
     "data": {
      "text/plain": [
       "{'criterion': 'gini',\n",
       " 'max_depth': 3,\n",
       " 'min_samples_leaf': 1,\n",
       " 'min_samples_split': 2,\n",
       " 'splitter': 'best'}"
      ]
     },
     "execution_count": 113,
     "metadata": {},
     "output_type": "execute_result"
    }
   ],
   "source": [
    "grid_search.best_params_"
   ]
  },
  {
   "cell_type": "code",
   "execution_count": 115,
   "id": "3f542093",
   "metadata": {},
   "outputs": [
    {
     "data": {
      "text/plain": [
       "{'criterion': 'gini',\n",
       " 'max_depth': 5,\n",
       " 'min_samples_leaf': 4,\n",
       " 'min_samples_split': 4,\n",
       " 'splitter': 'best'}"
      ]
     },
     "execution_count": 115,
     "metadata": {},
     "output_type": "execute_result"
    }
   ],
   "source": [
    "grid_search.best_params_"
   ]
  },
  {
   "cell_type": "code",
   "execution_count": 130,
   "id": "5c87516d",
   "metadata": {},
   "outputs": [
    {
     "data": {
      "text/plain": [
       "<AxesSubplot:xlabel='default.payment.next.month', ylabel='count'>"
      ]
     },
     "execution_count": 130,
     "metadata": {},
     "output_type": "execute_result"
    },
    {
     "data": {
      "image/png": "[encoded data removed]",
      "text/plain": [
       "<Figure size 432x288 with 1 Axes>"
      ]
     },
     "metadata": {
      "needs_background": "light"
     },
     "output_type": "display_data"
    }
   ],
   "source": [
    "sns.countplot(x=data['default.payment.next.month'])"
   ]
  },
  {
   "cell_type": "markdown",
   "id": "9372fb55",
   "metadata": {},
   "source": [
    "# RandomUnderSampling done below"
   ]
  },
  {
   "cell_type": "code",
   "execution_count": 32,
   "id": "5d42badf",
   "metadata": {},
   "outputs": [],
   "source": [
    "from imblearn.under_sampling import RandomUnderSampler\n",
    "from sklearn.model_selection import train_test_split\n",
    "\n",
    "X = data.iloc[:,1:24]\n",
    "Y = data.iloc[:,-1]\n",
    "\n",
    "X_train, X_test, Y_train, Y_test = train_test_split(X,Y, train_size=0.5)\n",
    "\n",
    "sampler = RandomUnderSampler(random_state=29, replacement=True)\n",
    "X_train_resampled, Y_train_resampled = sampler.fit_resample(X_train, Y_train)"
   ]
  },
  {
   "cell_type": "code",
   "execution_count": null,
   "id": "a9209157",
   "metadata": {},
   "outputs": [],
   "source": []
  },
  {
   "cell_type": "code",
   "execution_count": 22,
   "id": "c03d778e",
   "metadata": {},
   "outputs": [
    {
     "data": {
      "text/plain": [
       "((21000, 23), (21000,), (9000, 23), (9000,))"
      ]
     },
     "execution_count": 22,
     "metadata": {},
     "output_type": "execute_result"
    }
   ],
   "source": [
    "X_train.shape, Y_train.shape, X_test.shape, Y_test.shape"
   ]
  },
  {
   "cell_type": "code",
   "execution_count": 23,
   "id": "731a9615",
   "metadata": {},
   "outputs": [
    {
     "data": {
      "text/plain": [
       "((9256, 23), (9256,), (9000, 23), (9000,))"
      ]
     },
     "execution_count": 23,
     "metadata": {},
     "output_type": "execute_result"
    }
   ],
   "source": [
    "X_train_resampled.shape, Y_train_resampled.shape, X_test.shape, Y_test.shape"
   ]
  },
  {
   "cell_type": "markdown",
   "id": "4626782a",
   "metadata": {},
   "source": [
    "# Applying best params from GridSearchCV"
   ]
  },
  {
   "cell_type": "code",
   "execution_count": 39,
   "id": "304979d1",
   "metadata": {},
   "outputs": [
    {
     "name": "stdout",
     "output_type": "stream",
     "text": [
      "              precision    recall  f1-score   support\n",
      "\n",
      "           0       0.73      0.88      0.79      9677\n",
      "           1       0.64      0.40      0.49      5323\n",
      "\n",
      "    accuracy                           0.71     15000\n",
      "   macro avg       0.68      0.64      0.64     15000\n",
      "weighted avg       0.70      0.71      0.69     15000\n",
      "\n"
     ]
    }
   ],
   "source": [
    "# Splits dataset into Training and Testing set, doesn't clean data, nor does hyper paramet tuning.\n",
    "# Selected few values for Hyperparameter in Decision Tree Classifier\n",
    "\n",
    "from sklearn.model_selection import StratifiedKFold\n",
    "from sklearn.metrics import classification_report\n",
    "from sklearn.model_selection import train_test_split\n",
    "from sklearn import tree\n",
    "\n",
    "# Below params give higher Precision for 1 and lower Recall\n",
    "model = tree.DecisionTreeClassifier(criterion='gini', max_depth=9, min_samples_leaf=1, min_samples_split=3, splitter='best')\n",
    "\n",
    "#model = tree.DecisionTreeClassifier()\n",
    "\n",
    "#X_train, X_test, Y_train, Y_test = train_test_split(X,Y, train_size=0.40, shuffle=True)\n",
    "\n",
    "model.fit(X_train_resampled, Y_train_resampled)\n",
    "pred = model.predict(X_test)\n",
    "\n",
    "print(classification_report(pred, Y_test))"
   ]
  },
  {
   "cell_type": "markdown",
   "id": "59b564b0",
   "metadata": {},
   "source": [
    "# Trying GridSearchCV Hyperparameter tuning"
   ]
  },
  {
   "cell_type": "code",
   "execution_count": 36,
   "id": "8174052b",
   "metadata": {},
   "outputs": [
    {
     "name": "stdout",
     "output_type": "stream",
     "text": [
      "0.7082\n",
      "              precision    recall  f1-score   support\n",
      "\n",
      "           0       0.73      0.88      0.80      9715\n",
      "           1       0.64      0.40      0.49      5285\n",
      "\n",
      "    accuracy                           0.71     15000\n",
      "   macro avg       0.68      0.64      0.64     15000\n",
      "weighted avg       0.70      0.71      0.69     15000\n",
      "\n"
     ]
    }
   ],
   "source": [
    "from sklearn.metrics import accuracy_score, classification_report\n",
    "model = tree.DecisionTreeClassifier()\n",
    "\n",
    "\n",
    "# GridSearchCV\n",
    "from sklearn.model_selection import GridSearchCV\n",
    "grid_param = {'criterion': ['gini', 'entropy'],\n",
    "    'max_depth' : range(2,11,1),\n",
    "    'min_samples_leaf' : range(1,10,1),\n",
    "    'min_samples_split': range(2,10,1),\n",
    "    'splitter' : ['best']}\n",
    "grid_search=GridSearchCV(estimator=model, param_grid=grid_param, cv=10, scoring='f1')\n",
    "grid_search.fit(X_train_resampled, Y_train_resampled)\n",
    "pred = grid_search.predict(X_test)\n",
    "print(accuracy_score(pred, Y_test))\n",
    "print(classification_report(pred,Y_test))"
   ]
  },
  {
   "cell_type": "code",
   "execution_count": 38,
   "id": "10bf3049",
   "metadata": {},
   "outputs": [
    {
     "data": {
      "text/plain": [
       "{'criterion': 'gini',\n",
       " 'max_depth': 9,\n",
       " 'min_samples_leaf': 1,\n",
       " 'min_samples_split': 3,\n",
       " 'splitter': 'best'}"
      ]
     },
     "execution_count": 38,
     "metadata": {},
     "output_type": "execute_result"
    }
   ],
   "source": [
    "grid_search.best_params_"
   ]
  },
  {
   "cell_type": "code",
   "execution_count": null,
   "id": "0757a123",
   "metadata": {},
   "outputs": [],
   "source": []
  }
 ],
 "metadata": {
  "kernelspec": {
   "display_name": "Python 3 (ipykernel)",
   "language": "python",
   "name": "python3"
  },
  "language_info": {
   "codemirror_mode": {
    "name": "ipython",
    "version": 3
   },
   "file_extension": ".py",
   "mimetype": "text/x-python",
   "name": "python",
   "nbconvert_exporter": "python",
   "pygments_lexer": "ipython3",
   "version": "3.9.12"
  }
 },
 "nbformat": 4,
 "nbformat_minor": 5
}
